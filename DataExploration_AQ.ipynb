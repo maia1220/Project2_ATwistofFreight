{
 "cells": [
  {
   "cell_type": "code",
   "execution_count": 1,
   "metadata": {},
   "outputs": [
    {
     "name": "stdout",
     "output_type": "stream",
     "text": [
      "Collecting csv-to-sqlite\n",
      "  Downloading https://files.pythonhosted.org/packages/0d/2a/ad4eead0aa5d2e650fd72b5dd14bed7d30d086b8b3f3709781ac8259ed74/csv_to_sqlite-2.1.0-py3-none-any.whl\n",
      "Requirement already satisfied: click in c:\\users\\wildf\\anaconda3\\lib\\site-packages (from csv-to-sqlite) (7.0)\n",
      "Installing collected packages: csv-to-sqlite\n",
      "Successfully installed csv-to-sqlite-2.1.0\n",
      "Note: you may need to restart the kernel to use updated packages.\n"
     ]
    }
   ],
   "source": [
    "#pip install csv-to-sqlite"
   ]
  },
  {
   "cell_type": "code",
   "execution_count": 4,
   "metadata": {},
   "outputs": [
    {
     "name": "stdout",
     "output_type": "stream",
     "text": [
      "Written 125 rows into 4 tables in 0.012 seconds\n"
     ]
    }
   ],
   "source": [
    "# import csv_to_sqlite\n",
    "# options = csv_to_sqlite.CsvOptions(typing_style=\"full\", encoding=\"windows-1250\") \n",
    "# input_files = [\"CFSPRELIM2017.CF1700P1.csv\", \"CFSPRELIM2017.CF1700P2.csv\",\"CFSPRELIM2017.CF1700P6.csv\", \"FreightStates.csv\"] # pass in a list of CSV files\n",
    "# csv_to_sqlite.write_csv(input_files, \"output.sqlite\", options)"
   ]
  },
  {
   "cell_type": "code",
   "execution_count": 1,
   "metadata": {},
   "outputs": [],
   "source": [
    "from sqlalchemy import create_engine\n",
    "\n",
    "# Path to sqlite\n",
    "database_path = \"output.new.sqlite\"\n",
    "engine = create_engine(f\"sqlite:///{database_path}\")"
   ]
  },
  {
   "cell_type": "code",
   "execution_count": 2,
   "metadata": {},
   "outputs": [
    {
     "name": "stdout",
     "output_type": "stream",
     "text": [
      "('United States', 'All modes', 2017, 14366611, '100', 12478849, '100', '3130697', '100', '633', 0.8, '0', 1.6, '0', '4.5', '0', '2.3', '0100000US', 1, 'null')\n",
      "('United States', 'Single modes', 2017, 11642939, '81', 11496515, '92.1', '2399208', '76.6', '222', 0.9, '0.2', 1.8, '0.4', '5.1', '1', '3', '0100000US', 2, 'null')\n",
      "('United States', 'Truck', 2017, 10490038, '73', 8925313, '71.5', '1301054', '41.6', '188', 1.1, '0.3', 1.1, '0.7', '1.1', '1.7', '3.7', '0100000US', 3, 'null')\n",
      "('United States', 'For-hire truck', 2017, 7257437, '50.5', 5568811, '44.6', '1142613', '36.5', '325', 0.8, '0.2', 1.3, '0.4', '1.2', '1.5', '5.7', '0100000US', 4, 'null')\n",
      "('United States', 'Company-owned truck', 2017, 3232602, '22.5', 3356501, '26.9', '158441', '5.1', '46', 2.1, '0.3', 1.3, '0.4', '1.7', '0.2', '1.8', '0100000US', 5, 'null')\n",
      "('United States', 'Rail', 2017, 203432, '1.4', 1156760, '9.3', '842716', '26.9', '554', 6.6, '0.1', 8.8, '0.7', '12.5', '2.1', '9.2', '0100000US', 6, 'null')\n",
      "('United States', 'Water', 2017, 145179, '1', 561634, '4.5', '175829', '5.6', '225', 5.5, '0.1', 8.7, '0.4', '16', '0.7', '15.5', '0100000US', 7, 'null')\n",
      "('United States', 'Inland water', 2017, 59246, '0.4', 288697, '2.3', '119297', '3.8', '256', 11.3, 'Z', 11.9, '0.3', '19.3', '0.6', '12.7', '0100000US', 8, 'null')\n",
      "('United States', 'Great Lakes', 2017, 733, 'Z', 55564, '0.4', '20778', '0.7', '290', 18.6, 'Z', 40.3, '0.2', '38.3', '0.2', '8.3', '0100000US', 9, 'null')\n",
      "('United States', 'Deep sea', 2017, 80426, '0.6', 202146, '1.6', '28337', '0.9', '215', 7.0, 'Z', 10.9, '0.2', '18.9', '0.2', '31.1', '0100000US', 10, 'null')\n",
      "('United States', 'Multiple Waterways', 2017, 4774, 'Z', 15228, '0.1', '7417', '0.2', 'S', 40.4, 'Z', 45.4, '0.1', '46.7', '0.1', 'S', '0100000US', 101, 'null')\n",
      "('United States', 'Air (incl truck and air)', 2017, 408772, '2.8', 5745, 'Z', '6853', '0.2', '1437', 2.6, '0.1', 4.3, 'Z', '5.8', 'Z', '2.9', '0100000US', 11, 'null')\n",
      "('United States', 'Pipeline', 2017, 395517, '2.8', 847063, '6.8', 'S', 'S', 'S', 7.3, '0.2', 6.7, '0.4', 'S', 'S', 'S', '0100000US', 12, 'null')\n",
      "('United States', 'Multiple modes', 2017, 2720518, '18.9', 856355, '6.9', '731363', '23.4', '890', 1.4, '0.2', 5.1, '0.3', '5.1', '1', '2.1', '0100000US', 13, 'null')\n",
      "('United States', 'Parcel, U.S.P.S. or courier', 2017, 2037533, '14.2', 36040, '0.3', '27182', '0.9', '890', 1.7, '0.2', 1.7, 'Z', '1.3', 'Z', '2.1', '0100000US', 14, 'null')\n",
      "('United States', 'Truck and rail', 2017, 459933, '3.2', 650615, '5.2', '577100', '18.4', '1140', 4.8, '0.1', 7.0, '0.4', '5.6', '1', '2.8', '0100000US', 15, 'null')\n",
      "('United States', 'Truck and water', 2017, 178624, '1.2', 81063, '0.6', '43228', '1.4', '994', 1.2, 'Z', 5.5, 'Z', '7.7', '0.1', '6.1', '0100000US', 16, 'null')\n",
      "('United States', 'Rail and water', 2017, 21485, '0.1', 75996, '0.6', '70177', '2.2', '1306', 23.6, 'Z', 16.2, '0.1', '20.7', '0.4', '8.7', '0100000US', 17, 'null')\n",
      "('United States', 'Other multiple modes', 2017, 22944, '0.2', 12642, '0.1', '13676', '0.4', '1429', 9.8, 'Z', 9.8, 'Z', '7.5', 'Z', '5.2', '0100000US', 18, 'null')\n",
      "('United States', 'Other modes', 2017, 3153, 'Z', 125979, '1', '126', 'Z', '1', 27.2, 'Z', 35.8, '0.4', '35.8', 'Z', '0', '0100000US', 19, 'null')\n"
     ]
    }
   ],
   "source": [
    "from sqlalchemy import inspect\n",
    "data1 = engine.execute(\"SELECT * FROM 'CFSPRELIM2017.CF1700P1'\")\n",
    "\n",
    "for record in data1:\n",
    "    print(record)"
   ]
  },
  {
   "cell_type": "code",
   "execution_count": 3,
   "metadata": {},
   "outputs": [
    {
     "name": "stdout",
     "output_type": "stream",
     "text": [
      "('United States', 'All modes', 2017, '3130697', '100', '621', '4.5', '0', '2.2', '0100000US', 1, 'null')\n",
      "('United States', 'Truck', 2017, '1347240', '43', '186', '0.9', '1.8', '3.7', '0100000US', 3, 'null')\n",
      "('United States', 'Rail', 2017, '1460158', '46.6', '969', '8.4', '1.7', '4.1', '0100000US', 6, 'null')\n",
      "('United States', 'Inland water', 2017, '127749', '4.1', '576', '18.2', '0.6', '22.4', '0100000US', 8, 'null')\n",
      "('United States', 'Great Lakes', 2017, '35191', '1.1', '602', '29', '0.3', '13.2', '0100000US', 9, 'null')\n",
      "('United States', 'Deep sea', 2017, '53854', '1.7', '141', '16.8', '0.3', '8.1', '0100000US', 10, 'null')\n",
      "('United States', 'Air ', 2017, '6560', '0.2', '1006', '6', 'Z', '9.4', '0100000US', 11, 'null')\n",
      "('United States', 'Pipeline', 2017, 'S', 'S', 'S', 'S', 'S', 'S', '0100000US', 12, 'null')\n",
      "('United States', 'Parcel, U.S.P.S. or courier', 2017, '27063', '0.9', '886', '1.4', 'Z', '2.1', '0100000US', 14, 'null')\n",
      "('United States', 'Other modes', 2017, '126', 'Z', '1', '35.8', 'Z', '0', '0100000US', 19, 'null')\n"
     ]
    }
   ],
   "source": [
    "data2 = engine.execute(\"SELECT * FROM 'CFSPRELIM2017.CF1700P2'\")\n",
    "\n",
    "for record in data2:\n",
    "    print(record)"
   ]
  },
  {
   "cell_type": "code",
   "execution_count": 4,
   "metadata": {},
   "outputs": [
    {
     "name": "stdout",
     "output_type": "stream",
     "text": [
      "('United States', 0, 'All Commodities', 2017, 14366611, '100', 12478849, '100', 3130697, '100', 633, 0.8, '0', 1.6, '0', 4.5, '0', 2.3, '0100000US', 'null')\n",
      "('United States', 1, 'Animals and fish (live)', 2017, 9940, '0.1', 4693, 'Z', 1405, 'Z', 872, 15.8, 'Z', 20.8, 'Z', 18.4, 'Z', 15.7, '0100000US', 'null')\n",
      "('United States', 2, 'Cereal grains (includes seed)', 2017, 109150, '0.8', 702960, '5.6', 187685, '6', 122, 4.9, 'Z', 5.8, '0.4', 11.3, '0.7', 9.3, '0100000US', 'null')\n",
      "('United States', 3, 'Agricultural products (excludes animal feed, cereal grains, and forage products)', 2017, 226241, '1.6', 342394, '2.7', 154954, '4.9', 673, 4.0, '0.1', 4.5, '0.1', 9.6, '0.5', 15.9, '0100000US', 'null')\n",
      "('United States', 4, 'Animal feed, eggs, honey, and other products of animal origin', 2017, 146001, '1', 396937, '3.2', 98344, '3.1', 565, 4.4, 'Z', 6.3, '0.2', 4.2, '0.2', 15.8, '0100000US', 'null')\n",
      "('United States', 5, 'Meat, poultry, fish, seafood, and their preparations', 2017, 362775, '2.5', 97205, '0.8', 49001, '1.6', 204, 2.7, '0.1', 4.2, 'Z', 4.7, '0.1', 16.0, '0100000US', 'null')\n",
      "('United States', 6, 'Milled grain products and preparations, and bakery products', 2017, 185817, '1.3', 144763, '1.2', 58387, '1.9', 184, 3.2, 'Z', 8.4, '0.1', 7.7, '0.1', 12.0, '0100000US', 'null')\n",
      "('United States', 7, 'Other prepared foodstuffs and fats and oils', 2017, 603137, '4.2', 545109, '4.4', 198517, '6.3', 368, 2.7, '0.1', 3.5, '0.2', 4.7, '0.4', 7.6, '0100000US', 'null')\n",
      "('United States', 8, 'Alcoholic beverages', 2017, 202579, '1.4', 126526, '1', 45463, '1.5', 158, 2.5, 'Z', 7.8, '0.1', 13.2, '0.2', 18.5, '0100000US', 'null')\n",
      "('United States', 9, 'Tobacco products', 2017, 66860, '0.5', 3074, 'Z', 577, 'Z', 1209, 17.1, '0.1', 20.8, 'Z', 10.2, 'Z', 16.5, '0100000US', 'null')\n",
      "('United States', 10, 'Monumental or building stone', 2017, 5768, 'Z', 13235, '0.1', 2395, '0.1', 227, 15.6, 'Z', 12.3, 'Z', 17.5, 'Z', 25.4, '0100000US', 'null')\n",
      "('United States', 11, 'Natural sands', 2017, 11465, '0.1', 498482, '4', 86620, '2.8', 154, 9.8, 'Z', 7.4, '0.2', 16.1, '0.5', 17.8, '0100000US', 'null')\n",
      "('United States', 12, 'Gravel and crushed stone (excludes dolomite and slate)', 2017, 18680, '0.1', 1528626, '12.2', 95770, '3.1', 33, 3.9, 'Z', 5.1, '0.5', 11.3, '0.3', 3.9, '0100000US', 'null')\n",
      "('United States', 13, 'Other non-metallic minerals, not elsewhere classified ', 2017, 25852, '0.2', 268636, '2.2', 71628, '2.3', 284, 4.1, 'Z', 9.3, '0.2', 7.4, '0.2', 17.0, '0100000US', 'null')\n",
      "('United States', 14, 'Metallic ores and concentrates', 2017, 32928, '0.2', 53673, '0.4', 25797, '0.8', 576, 6.8, 'Z', 29.2, '0.1', 41.8, '0.3', 11.8, '0100000US', 'null')\n",
      "('United States', 15, 'Coal', 2017, 33474, '0.2', 956293, '7.7', 562927, '18', 57, 9.2, 'Z', 11.4, '0.8', 21.4, '2.7', 11.5, '0100000US', 'null')\n",
      "('United States', 17, 'Gasoline and aviation turbine fuel', 2017, 821828, '5.7', 1556190, '12.5', 105505, '3.4', 37, 2.7, '0.2', 2.8, '0.4', 6.6, '0.3', 9.7, '0100000US', 'null')\n",
      "('United States', 18, 'Fuel oils', 2017, 368950, '2.6', 765811, '6.1', 42635, '1.4', 27, 1.8, '0.1', 2.2, '0.1', 9.0, '0.1', 5.3, '0100000US', 'null')\n",
      "('United States', 19, 'Other coal and petroleum products, not elsewhere classified', 2017, 221450, '1.5', 526787, '4.2', 90471, '2.9', 76, 5.8, '0.1', 9.6, '0.4', 28.8, '0.9', 14.7, '0100000US', 'null')\n",
      "('United States', 20, 'Basic chemicals', 2017, 254225, '1.8', 325089, '2.6', 147149, '4.7', 476, 5.2, '0.1', 6.7, '0.2', 6.3, '0.3', 6.6, '0100000US', 'null')\n",
      "('United States', 21, 'Pharmaceutical products', 2017, 1166620, '8.1', 24001, '0.2', 10791, '0.3', 607, 4.7, '0.3', 22.2, 'Z', 17.3, '0.1', 4.3, '0100000US', 'null')\n",
      "('United States', 22, 'Fertilizers', 2017, 64265, '0.4', 208737, '1.7', 55127, '1.8', 133, 5.1, 'Z', 5.4, '0.1', 10.2, '0.1', 8.4, '0100000US', 'null')\n",
      "('United States', 23, 'Other chemical products and preparations, not elsewhere classified', 2017, 386568, '2.7', 131630, '1.1', 58162, '1.9', 796, 2.8, '0.1', 7.0, '0.1', 8.3, '0.2', 7.5, '0100000US', 'null')\n",
      "('United States', 24, 'Plastics and rubber', 2017, 603701, '4.2', 220496, '1.8', 130234, '4.2', 469, 2.3, '0.1', 5.1, '0.1', 9.9, '0.4', 4.9, '0100000US', 'null')\n",
      "('United States', 25, 'Logs and other wood in the rough', 2017, 5524, 'Z', 26104, '0.2', 4705, '0.2', 118, 18.1, 'Z', 20.4, 'Z', 16.5, 'Z', 21.5, '0100000US', 'null')\n",
      "('United States', 26, 'Wood products', 2017, 212144, '1.5', 331722, '2.7', 85558, '2.7', 337, 2.7, 'Z', 3.3, '0.1', 3.0, '0.1', 10.5, '0100000US', 'null')\n",
      "('United States', 27, 'Pulp, newsprint, paper, and paperboard', 2017, 120904, '0.8', 128953, '1', 76206, '2.4', 493, 3.1, 'Z', 2.8, 'Z', 4.0, '0.2', 18.9, '0100000US', 'null')\n",
      "('United States', 28, 'Paper or paperboard articles', 2017, 131983, '0.9', 72216, '0.6', 22432, '0.7', 564, 4.2, 'Z', 5.2, 'Z', 3.8, 'Z', 14.9, '0100000US', 'null')\n",
      "('United States', 29, 'Printed products', 2017, 143565, '1', 31379, '0.3', 11245, '0.4', 371, 8.3, '0.1', 9.1, 'Z', 7.6, 'Z', 10.8, '0100000US', 'null')\n",
      "('United States', 30, 'Textiles, leather, and articles of textiles or leather', 2017, 565947, '3.9', 42014, '0.3', 30402, '1', 1009, 3.0, '0.1', 3.6, 'Z', 8.7, '0.1', 3.2, '0100000US', 'null')\n",
      "('United States', 31, 'Non-metallic mineral products', 2017, 184928, '1.3', 814621, '6.5', 93195, '3', 497, 1.6, 'Z', 3.9, '0.3', 5.1, '0.2', 11.9, '0100000US', 'null')\n",
      "('United States', 32, 'Base metal in primary or semi-finished forms and in finished basic shapes', 2017, 469502, '3.3', 355115, '2.8', 138375, '4.4', 504, 2.5, '0.1', 9.4, '0.2', 18.9, '0.7', 9.6, '0100000US', 'null')\n",
      "('United States', 33, 'Articles of base metal', 2017, 365233, '2.5', 114793, '0.9', 42275, '1.4', 521, 1.6, '0.1', 2.3, 'Z', 4.1, '0.1', 4.0, '0100000US', 'null')\n",
      "('United States', 34, 'Machinery', 2017, 831375, '5.8', 99226, '0.8', 43371, '1.4', 407, 1.5, '0.1', 7.3, '0.1', 8.8, '0.1', 3.3, '0100000US', 'null')\n",
      "('United States', 35, 'Electronic and other electrical equipment and components, and office equipment', 2017, 1141284, '7.9', 56694, '0.5', 29922, '1', 653, 1.8, '0.2', 3.4, 'Z', 5.4, '0.1', 5.3, '0100000US', 'null')\n",
      "('United States', 36, 'Motorized and other vehicles (includes parts)', 2017, 1259199, '8.8', 181676, '1.5', 72674, '2.3', 444, 3.2, '0.2', 3.0, 'Z', 4.7, '0.1', 5.4, '0100000US', 'null')\n",
      "('United States', 37, 'Transportation equipment, not elsewhere classified', 2017, 261606, '1.8', 7934, '0.1', 3743, '0.1', 820, 3.2, '0.1', 10.4, 'Z', 13.0, 'Z', 11.2, '0100000US', 'null')\n",
      "('United States', 38, 'Precision instruments and apparatus', 2017, 342319, '2.4', 7412, '0.1', 5467, '0.2', 902, 4.4, '0.1', 11.6, 'Z', 14.1, 'Z', 3.0, '0100000US', 'null')\n",
      "('United States', 39, 'Furniture, mattresses and mattress supports, lamps, lighting fittings, and illuminated signs', 2017, 176358, '1.2', 28059, '0.2', 14918, '0.5', 752, 5.4, '0.1', 4.6, 'Z', 5.5, 'Z', 6.2, '0100000US', 'null')\n",
      "('United States', 40, 'Miscellaneous manufactured products', 2017, 657072, '4.6', 124118, '1', 43034, '1.4', 978, 1.7, '0.1', 5.6, '0.1', 5.8, '0.1', 3.4, '0100000US', 'null')\n",
      "('United States', 41, 'Waste and scrap', 2017, 67645, '0.5', 198809, '1.6', 48203, '1.5', 166, 2.7, 'Z', 2.2, 'Z', 4.9, '0.1', 7.4, '0100000US', 'null')\n",
      "('United States', 43, 'Mixed freight', 2017, 1501749, '10.5', 416657, '3.3', 85427, '2.7', 418, 3.3, '0.2', 4.2, '0.2', 2.5, '0.1', 6.8, '0100000US', 'null')\n"
     ]
    }
   ],
   "source": [
    "data6 = engine.execute(\"SELECT * FROM 'CFSPRELIM2017.CF1700P6'\")\n",
    "\n",
    "for record in data6:\n",
    "    print(record)"
   ]
  },
  {
   "cell_type": "code",
   "execution_count": 5,
   "metadata": {},
   "outputs": [
    {
     "name": "stdout",
     "output_type": "stream",
     "text": [
      "('Alabama', 146719.3229, 193622.3519, 148010.4621, 167540.6533, 112310.8662, 158863.6498)\n",
      "('Alaska', 2251.0697, 51174.2675, 23962.0309, 26470.517, 26878.7554, 27770.7585)\n",
      "('Arizona', 65546.6853, 135687.5727, 36692.8035, 135877.8837, 98035.2842, 99587.4111)\n",
      "('Arkansas', 91981.5193, 144982.2389, 79522.3906, 96982.4052, 68903.6392, 75772.0338)\n",
      "('California', 229929.9512, 1068177.316, 141507.6007, 601187.4044, 1336300.521, 758336.6238)\n",
      "('Colorado', 86669.1749, 219291.1051, 102056.0487, 118104.1264, 95730.3564, 101660.6985)\n",
      "('Connecticut', 43142.4488, 70573.2513, 46035.702, 105761.1215, 68247.293, 134755.1321)\n",
      "('Delaware', 25812.182, 37734.6085, 13489.3856, 38572.0229, 17602.0222, 31943.6192)\n",
      "('District of Columbia', 3832.5976, 2372.5762, 4325.1855, 17453.9317, 2931.3793, 9909.1875)\n",
      "('Florida', 134580.8963, 595949.1487, 55787.0823, 313862.0699, 382255.7488, 186420.8129)\n",
      "('Georgia', 166453.7574, 275735.5035, 125545.1991, 304770.4525, 245495.3856, 313590.6755)\n",
      "('Hawaii', 3325.9224, 41469.6031, 1992.9489, 21923.4281, 24220.4068, 1917.1564)\n",
      "('Idaho', 26979.4643, 64239.7656, 47215.8616, 41209.9164, 24000.3586, 32448.5174)\n",
      "('Illinois', 424458.6383, 561551.1973, 312994.8745, 480046.4172, 399171.3316, 599609.0083)\n",
      "('Indiana', 234916.1258, 264324.3245, 188950.4813, 300536.8703, 151846.9292, 301823.6813)\n",
      "('Iowa', 132349.9252, 288281.1292, 172080.2183, 130147.7021, 93368.6991, 145138.9647)\n",
      "('Kansas', 129176.219, 183789.4848, 149818.8051, 122231.3763, 93176.0901, 141258.7956)\n",
      "('Kentucky', 142035.6777, 174969.0381, 166942.8941, 236762.4272, 108452.886, 251036.8339)\n",
      "('Louisiana', 284536.8648, 511038.7321, 285672.1465, 179761.9408, 203750.8961, 167423.3155)\n",
      "('Maine', 12640.7967, 47920.8478, 24633.2234, 30089.0335, 21513.4512, 32013.0408)\n",
      "('Maryland', 89231.4284, 106152.1846, 60077.3872, 153753.6835, 89105.9674, 134155.0609)\n",
      "('Massachusetts', 63347.164, 119830.0791, 42359.989, 179695.852, 112070.5062, 154082.4086)\n",
      "('Michigan', 217996.9055, 258893.4159, 160533.0318, 405259.0869, 285913.554, 339841.5243)\n",
      "('Minnesota', 204249.3136, 253789.2085, 207569.6082, 175776.5692, 126189.2936, 194163.4786)\n",
      "('Mississippi', 169593.094, 141831.5834, 132511.6238, 114187.0742, 61864.4957, 123323.8038)\n",
      "('Missouri', 172236.2592, 176829.5885, 122786.5533, 193226.6072, 115708.9433, 166792.5899)\n",
      "('Montana', 23716.1257, 48347.8322, 82744.0785, 33976.2616, 19330.9112, 24525.1656)\n",
      "('Nebraska', 109837.864, 171599.5562, 117745.6031, 86065.2096, 58788.583, 83096.0626)\n",
      "('Nevada', 42684.2793, 46723.9457, 29747.6677, 79450.6861, 21639.7138, 62436.4798)\n",
      "('New Hampshire', 31528.5715, 23828.4202, 13254.4635, 54700.1457, 13586.6376, 31623.5738)\n",
      "('New Jersey', 165099.2788, 211251.2359, 133941.1834, 290597.9211, 203219.332, 433226.8996)\n",
      "('New Mexico', 32803.3898, 67376.5751, 61366.3537, 55607.7941, 24054.2948, 49718.7662)\n",
      "('New York', 183593.0473, 351367.0062, 124085.1466, 510583.7085, 387902.7487, 388850.9315)\n",
      "('North Carolina', 129314.8585, 222161.14, 91531.305, 240412.9053, 162822.0455, 273497.3308)\n",
      "('North Dakota', 52543.8148, 128530.9886, 286196.2037, 59864.4206, 40232.018, 96767.8222)\n",
      "('Ohio', 264950.569, 372186.595, 225404.3429, 407182.9035, 253795.5777, 399452.2452)\n",
      "('Oklahoma', 107588.2041, 207355.0286, 163856.9167, 120140.9734, 86050.2954, 109542.88)\n",
      "('Oregon', 65924.4655, 122307.5804, 53569.8927, 109672.5312, 63720.5052, 106521.5483)\n",
      "('Pennsylvania', 217435.1701, 402712.4557, 278882.9812, 398019.3501, 278751.2989, 403190.9964)\n",
      "('Rhode Island', 12191.944, 21837.6757, 19016.2936, 26454.7622, 18546.7819, 33000.1229)\n",
      "('South Carolina', 99974.445, 113902.5657, 70099.1648, 158539.8615, 93154.5241, 152490.6421)\n",
      "('South Dakota', 33943.8339, 77538.611, 49327.1749, 29751.6535, 23439.1462, 29339.2726)\n",
      "('Tennessee', 137271.8216, 145506.5545, 126559.9783, 300746.7763, 113910.2626, 296832.6676)\n",
      "('Texas', 462933.2655, 2172887.612, 425421.1221, 654086.7877, 1561968.68, 708660.6331)\n",
      "('Utah', 48412.3906, 69977.5722, 56559.5768, 98279.5996, 50116.3257, 80710.8581)\n",
      "('Vermont', 12062.3026, 19341.028, 9811.0451, 18972.9942, 10679.3391, 24430.1282)\n",
      "('Virginia', 136310.2849, 187186.1698, 80031.1919, 206635.416, 144833.2632, 160575.4697)\n",
      "('Washington', 97701.1962, 268426.5003, 68440.7671, 181830.833, 243323.762, 174108.3485)\n",
      "('West Virginia', 73705.2027, 68385.9818, 137052.9588, 59923.7793, 18927.3315, 52347.0089)\n",
      "('Wisconsin', 135667.0273, 211018.3203, 108344.2059, 193303.747, 131910.8431, 206263.3013)\n",
      "('Wyoming', 44352.1685, 76775.2303, 359475.7695, 26780.9352, 18363.6468, 27924.592)\n"
     ]
    }
   ],
   "source": [
    "dataF = engine.execute(\"SELECT * FROM 'FreightStates'\")\n",
    "\n",
    "for record in dataF:\n",
    "    print(record)"
   ]
  },
  {
   "cell_type": "code",
   "execution_count": null,
   "metadata": {},
   "outputs": [],
   "source": []
  }
 ],
 "metadata": {
  "kernelspec": {
   "display_name": "Python 3",
   "language": "python",
   "name": "python3"
  },
  "language_info": {
   "codemirror_mode": {
    "name": "ipython",
    "version": 3
   },
   "file_extension": ".py",
   "mimetype": "text/x-python",
   "name": "python",
   "nbconvert_exporter": "python",
   "pygments_lexer": "ipython3",
   "version": "3.7.3"
  }
 },
 "nbformat": 4,
 "nbformat_minor": 4
}
